{
 "cells": [
  {
   "cell_type": "code",
   "execution_count": 1,
   "metadata": {},
   "outputs": [],
   "source": [
    "import numpy as np\n",
    "import pandas as pd\n",
    "import matplotlib.pyplot as plt\n",
    "\n",
    "import utils\n",
    "import metrics\n",
    "\n",
    "import os\n",
    "\n",
    "from scipy.ndimage import gaussian_filter1d\n",
    "\n",
    "import burst_detector as bd\n",
    "\n",
    "%matplotlib inline\n",
    "%config InlineBackend.figure_format = 'retina'"
   ]
  },
  {
   "cell_type": "code",
   "execution_count": 2,
   "metadata": {},
   "outputs": [],
   "source": [
    "# parameters for animal\n",
    "file_dir = \"Z:/Wu_sleep/m1/SD1/\"\n",
    "file_date = \"20240914\"\n",
    "t_stamp = [\"0900\", \"1000\", \"1100\", \"1200\", \"1300\", \"1400\", \"1500\", \"1600\", \"1700\", \"1800\", \"1900\", \"2000\", \"2100\"]\n",
    "\n",
    "# parameters for math\n",
    "bin_size = 30000\n",
    "sample_rate = 30000\n",
    "sigma = 6\n",
    "\n",
    "burst_freq = 100"
   ]
  },
  {
   "cell_type": "code",
   "execution_count": 3,
   "metadata": {},
   "outputs": [],
   "source": [
    "# loop over sessions for one animal\n",
    "\n",
    "spikes = []\n",
    "for s in range(len(t_stamp)):\n",
    "\n",
    "    file_path = file_date + \"_SD1_test_\" + t_stamp[s] + \"_g0/catgt_\" + file_date + \"_SD1_test_\" + t_stamp[s] + \"_g0/\" + file_date + \"_SD1_test_\" + t_stamp[s] + \"_g0_imec0/imec0_ks25\"\n",
    "    spike_times_file = file_dir + file_path + \"/spike_times.npy\"\n",
    "    spike_clusters_file = file_dir + file_path + \"/spike_clusters.npy\"\n",
    "    cluster_group_file = file_dir + file_path + \"/cluster_group.tsv\"\n",
    "\n",
    "    # spike times by cluster\n",
    "    spike_times, spike_clusters, clust_labels = utils.load_files(spike_times_file, spike_clusters_file, cluster_group_file)\n",
    "    spike_times_all = utils.spike_times_by_cluster(spike_times, spike_clusters, clust_labels)\n",
    "    spikes.append(spike_times_all)\n",
    "\n",
    "    # update metrics file and save as metrics_curated\n",
    "    fr_df = metrics.firing_rate_metics(spike_times, spike_clusters, clust_labels)\n",
    "    burst_count, burst_ratio = metrics.bursting_metrics(spike_times_all, burst_freq, sample_rate)\n",
    "\n",
    "    fr_df[\"burst_count\"] = burst_count\n",
    "    fr_df[\"burst_ratio\"] = burst_ratio\n",
    "\n",
    "    fr_df.to_csv(os.path.join(file_dir + file_path, r\"metrics_curated.csv\"), mode='w+')"
   ]
  },
  {
   "cell_type": "code",
   "execution_count": null,
   "metadata": {},
   "outputs": [],
   "source": [
    "spike_times_file = r\"Z:\\Wu_sleep\\m2\\SD1\\20240923_SD1_test_0900_g0\\catgt_20240923_SD1_test_0900_g0\\20240923_SD1_test_0900_g0_imec0\\imec0_ks25\\spike_times.npy\"\n",
    "spike_clusters_file =r\"Z:\\Wu_sleep\\m2\\SD1\\20240923_SD1_test_0900_g0\\catgt_20240923_SD1_test_0900_g0\\20240923_SD1_test_0900_g0_imec0\\imec0_ks25\\spike_clusters.npy\"\n",
    "cluster_group_file = r\"Z:\\Wu_sleep\\m2\\SD1\\20240923_SD1_test_0900_g0\\catgt_20240923_SD1_test_0900_g0\\20240923_SD1_test_0900_g0_imec0\\imec0_ks25\\cluster_group.tsv\"\n",
    "\n",
    "spike_times, spike_clusters, clust_label = utils.load_files(spike_times_file, spike_clusters_file, cluster_group_file)\n",
    "spikes = utils.spike_times_by_cluster(spike_times, spike_clusters, clust_label)\n",
    "\n",
    "fr_df = metrics.firing_rate_metics(spike_times, spike_clusters, clust_label)"
   ]
  },
  {
   "cell_type": "code",
   "execution_count": null,
   "metadata": {},
   "outputs": [],
   "source": [
    "fr_df"
   ]
  },
  {
   "cell_type": "code",
   "execution_count": null,
   "metadata": {},
   "outputs": [],
   "source": [
    "for i in range(len(spike_times_all)):\n",
    "    if len(spike_times_all[i]) == 0:\n",
    "        print(i)"
   ]
  },
  {
   "cell_type": "code",
   "execution_count": null,
   "metadata": {},
   "outputs": [],
   "source": [
    "len(spikes[0][23])"
   ]
  },
  {
   "cell_type": "code",
   "execution_count": null,
   "metadata": {},
   "outputs": [],
   "source": [
    "q_all = []\n",
    "burst_thres = 20\n",
    "\n",
    "spike_t_delta = []\n",
    "\n",
    "for i in range(len(spikes)):\n",
    "    clust_t_delta = np.diff(spikes[i])\n",
    "    spike_t_delta.append(sum(clust_t_delta <= (0.05*sample_rate)))"
   ]
  },
  {
   "cell_type": "code",
   "execution_count": null,
   "metadata": {},
   "outputs": [],
   "source": [
    "plt.plot(q_all)\n",
    "plt.plot(spike_t_delta)\n",
    "plt.show()"
   ]
  },
  {
   "cell_type": "code",
   "execution_count": null,
   "metadata": {},
   "outputs": [],
   "source": [
    "aa = [1,2,3,4,5,6,7,8,9,10]\n",
    "bb = [2,4,6,3,5,3,5,7,3,2]\n",
    "cc = [1,2,5,2,4,6,2,3,5,5]\n",
    "\n",
    "gg = pd.DataFrame({\"cluster_id\":aa, \"bb\":bb})"
   ]
  },
  {
   "cell_type": "code",
   "execution_count": null,
   "metadata": {},
   "outputs": [],
   "source": [
    "gg[\"cc\"] = cc\n",
    "print(gg)"
   ]
  }
 ],
 "metadata": {
  "kernelspec": {
   "display_name": "burst-detector",
   "language": "python",
   "name": "python3"
  },
  "language_info": {
   "codemirror_mode": {
    "name": "ipython",
    "version": 3
   },
   "file_extension": ".py",
   "mimetype": "text/x-python",
   "name": "python",
   "nbconvert_exporter": "python",
   "pygments_lexer": "ipython3",
   "version": "3.10.4"
  }
 },
 "nbformat": 4,
 "nbformat_minor": 2
}
