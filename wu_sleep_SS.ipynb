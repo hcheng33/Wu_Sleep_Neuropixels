{
 "cells": [
  {
   "cell_type": "code",
   "execution_count": 10,
   "metadata": {},
   "outputs": [],
   "source": [
    "import numpy as np\n",
    "import pandas as pd\n",
    "import matplotlib\n",
    "import matplotlib.pyplot as plt\n",
    "\n",
    "import os"
   ]
  },
  {
   "cell_type": "code",
   "execution_count": 11,
   "metadata": {},
   "outputs": [],
   "source": [
    "# parameters\n",
    "bin_size = 30000\n",
    "\n",
    "sample_rate = 30000\n",
    "sigma = 6"
   ]
  },
  {
   "cell_type": "code",
   "execution_count": 12,
   "metadata": {},
   "outputs": [],
   "source": [
    "def load_files(spike_times_file, spike_clusters_file, cluster_group_file):\n",
    "    spike_times = np.load(spike_times_file)\n",
    "    spike_clusters = np.load(spike_clusters_file)\n",
    "\n",
    "    clust_group = pd.read_csv(cluster_group_file, sep='\\t')\n",
    "    clust_label = clust_group.index[clust_group[\"label\"] == \"good\"].tolist()\n",
    "\n",
    "    return spike_times, spike_clusters, clust_label"
   ]
  },
  {
   "cell_type": "code",
   "execution_count": 14,
   "metadata": {},
   "outputs": [],
   "source": [
    "def spike_times_by_cluster(spike_times, spike_clusters, clust_label):\n",
    "\n",
    "    spike_times_all = []\n",
    "    #clust_ind = clust_label.index[clust_label[\"label\"] == \"good\"].tolist()\n",
    "\n",
    "    for i in clust_label:\n",
    "        spike_times_clust = spike_times[spike_clusters == i]\n",
    "\n",
    "        if len(spike_times_clust) >= 50:\n",
    "            spike_times_all.append(spike_times_clust)\n",
    "\n",
    "    return spike_times_all\n"
   ]
  },
  {
   "cell_type": "code",
   "execution_count": null,
   "metadata": {},
   "outputs": [],
   "source": [
    "## function for calculating firing rate of each neuron(clsuters)\n",
    "# Input:\n",
    "# - spike_time_files = spike_times.npy\n",
    "# - spike_clusters_file = spike_clusters.npy\n",
    "# - bin_size = in sample numbers (30kHz), binwidth for calculating firing rate\n",
    "# - cluster = select for which clusters to calculate firing rate\n",
    "\n",
    "# Output:\n",
    "# - fr [cluster #, (total length/ bin width)]: binned firing rate for each cluster\n",
    "# - t_bins [(total length/ bin width),]: vector of binned time stamp\n",
    "# - clust_num [int]: number of clusters\n",
    "\n",
    "def firing_rate_calc(spike_times, spike_clusters, clust_label, bin_size, cluster):\n",
    "\n",
    "    if cluster == \"all\":\n",
    "        clust_tot = len(clust_label)\n",
    "        clust_ind = clust_label\n",
    "    else:\n",
    "        clust_ind = cluster\n",
    "        \n",
    "    t_end = np.max(spike_times)\n",
    "    t_bins = np.arange(0,t_end,bin_size)\n",
    "    \n",
    "    clust_num = len(clust_ind)\n",
    "    fr = np.zeros((len(clust_ind), len(t_bins)-1))\n",
    "    for i in range(len(clust_ind)):\n",
    "        spikes_t_ind = spike_times[np.where(spike_clusters == clust_ind[i])[0]]\n",
    "        spikes_count, edges = np.histogram(spikes_t_ind, t_bins)\n",
    "\n",
    "        fr[i,:] = spikes_count\n",
    "\n",
    "    return fr, t_bins[:-1], clust_num, clust_tot"
   ]
  },
  {
   "cell_type": "code",
   "execution_count": null,
   "metadata": {},
   "outputs": [],
   "source": [
    "## function for smoothing firing rate via gaussian filter\n",
    "# Input:\n",
    "# - fr\n",
    "# - sigma: standard deviation of gaussian kernel\n",
    "\n",
    "# Output:\n",
    "# - fr_smooth\n",
    "\n",
    "def firing_rate_smooth(fr, sigma):\n",
    "    fr_smooth = np.zeros(fr.shape)\n",
    "    for i in range(len(fr_smooth)):\n",
    "        fr_smooth[i,:] = gaussian_filter1d(fr[i,:], sigma)\n",
    "\n",
    "    return fr_smooth"
   ]
  },
  {
   "cell_type": "code",
   "execution_count": null,
   "metadata": {},
   "outputs": [],
   "source": [
    "def firing_rate_metics(spike_times_file, spike_clusters_file):\n",
    "    spike_times = np.load(spike_times_file)\n",
    "    spike_clusters = np.load(spike_clusters_file)\n",
    "\n",
    "    clust_ind = np.unique(spike_clusters)\n",
    "    cluster_spike_count = np.zeros(len(clust_ind))\n",
    "\n",
    "    for i in range(len(clust_ind)):\n",
    "        count = len(np.where(spike_clusters == clust_ind[i])[0])\n",
    "        cluster_spike_count[i] = count\n",
    "\n",
    "    firing_rate = cluster_spike_count/(np.max(spike_times)/30000)\n",
    "\n",
    "    df = pd.DataFrame({'cluster_id':clust_ind, 'firing_rate':firing_rate})\n",
    "    \n",
    "    return df"
   ]
  },
  {
   "cell_type": "code",
   "execution_count": null,
   "metadata": {},
   "outputs": [],
   "source": [
    "# MAIN SCRIPT FOR CALCULATING FIRING RATE\n",
    "\n",
    "# going through all the different recording sessions\n",
    "t_stamp = [\"0900\", \"1000\", \"1100\", \"1200\", \"1300\", \"1400\", \"1500\", \"1600\", \"1700\", \"1800\", \"1900\", \"2000\", \"2100\"]\n",
    "file_dir = \"Z:/Wu_sleep/m2/SD1/\"\n",
    "file_date = \"20240923\"\n",
    "\n",
    "mean_fr_sessions = []\n",
    "\n",
    "for s in range(len(t_stamp)):\n",
    "    file_path = file_date + \"_SD1_test_\" + t_stamp[s] + \"_g0/catgt_\" + file_date + \"_SD1_test_\" + t_stamp[s] + \"_g0/\" + file_date + \"_SD1_test_\" + t_stamp[s] + \"_g0_imec0/imec0_ks25\"\n",
    "    spike_times_file = file_dir + file_path + \"/spike_times.npy\"\n",
    "    spike_clusters_file = file_dir + file_path + \"/spike_clusters.npy\"\n",
    "    cluster_label_file = file_dir + file_path + \"/cluster_group.tsv\"\n",
    "    \n",
    "\n",
    "    fr, t_bins, clust_num, clust_tot = firing_rate_calc(spike_times_file, spike_clusters_file, cluster_label_file, bin_size, \"all\")\n",
    "    fr_smooth = firing_rate_smooth(fr, sigma)\n",
    "\n",
    "    # taking average of binned firing rate for each cluster\n",
    "    fr_smooth_avg = np.average(fr_smooth, axis=1)\n",
    "\n",
    "    # save total cluster fr data in vector for each session\n",
    "    mean_fr_sessions.append(fr_smooth_avg)\n",
    "\n",
    "    # update post-curation metrics file with firing rate for neuron tracking\n",
    "    fr_df = firing_rate_metics(spike_times_file, spike_clusters_file)\n",
    "    fr_df.to_csv(os.path.join(file_dir + file_path, r\"metrics_curated.csv\"))\n",
    "\n",
    "    "
   ]
  },
  {
   "cell_type": "code",
   "execution_count": 9,
   "metadata": {},
   "outputs": [],
   "source": [
    "# identifying burst segments based on ISI\n",
    "\n",
    "spike_t_delta = []\n",
    "\n",
    "for i in range(len(spikes)):\n",
    "    clust_t_delta = np.diff(spikes[i])\n",
    "    spike_t_delta.append(sum(clust_t_delta <= (0.5*sample_rate)))"
   ]
  },
  {
   "cell_type": "code",
   "execution_count": null,
   "metadata": {},
   "outputs": [],
   "source": [
    "# plot mean Firing Rate (Violin Plot)\n",
    "\n",
    "plt.violinplot(mean_fr_sessions,showmedians=True, showextrema=False)\n",
    "\n",
    "plt.ylim([0,50])\n",
    "plt.title(\"M2 Firing Rate\")\n",
    "plt.xticks(np.arange(13)+1, [\"SD1\", \"SD2\", \"SD3\", \"SD4\", \"SD5\", \"SD6\", \"RE1\", \"RE2\", \"RE3\", \"RE4\", \"RE5\", \"RE6\", \"RE7\"])\n",
    "plt.xlabel(\"Sessions\")\n",
    "plt.ylabel(\"FR (Hz)\")\n",
    "plt.show()"
   ]
  },
  {
   "cell_type": "code",
   "execution_count": null,
   "metadata": {},
   "outputs": [],
   "source": [
    "# plot mean Firing Rate (Boxplot)\n",
    "\n",
    "plt.boxplot(mean_fr_sessions, sym=\"\")\n",
    "\n",
    "plt.ylim([0,50])\n",
    "plt.title(\"M1 Firing Rate\")\n",
    "plt.xticks(np.arange(13)+1, [\"SD1\", \"SD2\", \"SD3\", \"SD4\", \"SD5\", \"SD6\", \"RE1\", \"RE2\", \"RE3\", \"RE4\", \"RE5\", \"RE6\", \"RE7\"])\n",
    "plt.xlabel(\"Sessions\")\n",
    "plt.ylabel(\"FR (Hz)\")\n",
    "plt.show()"
   ]
  }
 ],
 "metadata": {
  "kernelspec": {
   "display_name": "wu_sleep_anaylsis",
   "language": "python",
   "name": "python3"
  },
  "language_info": {
   "codemirror_mode": {
    "name": "ipython",
    "version": 3
   },
   "file_extension": ".py",
   "mimetype": "text/x-python",
   "name": "python",
   "nbconvert_exporter": "python",
   "pygments_lexer": "ipython3",
   "version": "3.12.3"
  }
 },
 "nbformat": 4,
 "nbformat_minor": 2
}
