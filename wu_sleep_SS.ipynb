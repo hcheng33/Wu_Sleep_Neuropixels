{
 "cells": [
  {
   "cell_type": "code",
   "execution_count": 1,
   "metadata": {},
   "outputs": [],
   "source": [
    "import numpy as np\n",
    "import pandas as pd\n",
    "import matplotlib.pyplot as plt\n",
    "\n",
    "import os\n",
    "\n",
    "from scipy.ndimage import gaussian_filter1d\n",
    "\n",
    "import burst_detector as bd"
   ]
  },
  {
   "cell_type": "code",
   "execution_count": 2,
   "metadata": {},
   "outputs": [],
   "source": [
    "#rec_time = \"0900\"\n",
    "#file_path = \"20240914_SD1_test_\" + rec_time + \"_g0/catgt_20240914_SD1_test_\" + rec_time + \"_g0/20240914_SD1_test_\" + rec_time + \"_g0_imec0/imec0_ks25\"\n",
    "\n",
    "# parameters\n",
    "bin_size = 30000\n",
    "\n",
    "sample_rate = 30000\n",
    "sigma = 6"
   ]
  },
  {
   "cell_type": "code",
   "execution_count": 3,
   "metadata": {},
   "outputs": [],
   "source": [
    "## function for calculating firing rate of each neuron(clsuters)\n",
    "# Input:\n",
    "# - spike_time_files = spike_times.npy\n",
    "# - spike_clusters_file = spike_clusters.npy\n",
    "# - bin_size = in sample numbers (30kHz), binwidth for calculating firing rate\n",
    "# - cluster = select for which clusters to calculate firing rate\n",
    "\n",
    "# Output:\n",
    "# - fr [cluster #, (total length/ bin width)]: binned firing rate for each cluster\n",
    "# - t_bins [(total length/ bin width),]: vector of binned time stamp\n",
    "# - clust_num [int]: number of clusters\n",
    "\n",
    "def firing_rate_calc(spike_times_file, spike_clusters_file, cluster_label_file, bin_size, cluster):\n",
    "    spike_times = np.load(spike_times_file)\n",
    "    spike_clusters = np.load(spike_clusters_file)\n",
    "    clust_label = pd.read_csv(cluster_label_file, sep='\\t')\n",
    "\n",
    "    if cluster == \"all\":\n",
    "        clust_tot = len(np.unique(spike_clusters))\n",
    "        clust_ind = clust_label.index[clust_label[\"label\"] == \"good\"].tolist()\n",
    "    else:\n",
    "        clust_ind = cluster\n",
    "    t_end = np.max(spike_times)\n",
    "    t_bins = np.arange(0,t_end,bin_size)\n",
    "    \n",
    "    clust_num = len(clust_ind)\n",
    "    fr = np.zeros((len(clust_ind), len(t_bins)-1))\n",
    "    for i in range(len(clust_ind)):\n",
    "        spikes_t_ind = spike_times[np.where(spike_clusters == clust_ind[i])[0]]\n",
    "        spikes_count, edges = np.histogram(spikes_t_ind, t_bins)\n",
    "\n",
    "        fr[i,:] = spikes_count\n",
    "\n",
    "    return fr, t_bins[:-1], clust_num, clust_tot"
   ]
  },
  {
   "cell_type": "code",
   "execution_count": 8,
   "metadata": {},
   "outputs": [],
   "source": [
    "## function for smoothing firing rate via gaussian filter\n",
    "# Input:\n",
    "# - fr\n",
    "# - sigma: standard deviation of gaussian kernel\n",
    "\n",
    "# Output:\n",
    "# - fr_smooth\n",
    "\n",
    "def firing_rate_smooth(fr, sigma):\n",
    "    fr_smooth = np.zeros(fr.shape)\n",
    "    for i in range(len(fr_smooth)):\n",
    "        fr_smooth[i,:] = gaussian_filter1d(fr[i,:], sigma)\n",
    "\n",
    "    return fr_smooth"
   ]
  },
  {
   "cell_type": "code",
   "execution_count": null,
   "metadata": {},
   "outputs": [],
   "source": [
    "cluster_ind = np.unique(spike_clusters)\n",
    "\n",
    "cluster_spike_count = np.zeros(len(cluster_ind))\n",
    "for i in range(len(cluster_ind)):\n",
    "    count = len(np.where(spike_clusters == cluster_ind[i])[0])\n",
    "    cluster_spike_count[i] = count\n",
    "\n",
    "firing_rate = cluster_spike_count/(np.max(spike_times)/30000)\n",
    "\n",
    "df = pd.DataFrame({'cluster_id':cluster_ind, 'firing_rate':firing_rate})"
   ]
  },
  {
   "cell_type": "code",
   "execution_count": 10,
   "metadata": {},
   "outputs": [],
   "source": [
    "def firing_rate_metics(spike_times_file, spike_clusters_file):\n",
    "    spike_times = np.load(spike_times_file)\n",
    "    spike_clusters = np.load(spike_clusters_file)\n",
    "\n",
    "    clust_ind = np.unique(spike_clusters)\n",
    "    cluster_spike_count = np.zeros(len(clust_ind))\n",
    "\n",
    "    for i in range(len(clust_ind)):\n",
    "        count = len(np.where(spike_clusters == clust_ind[i])[0])\n",
    "        cluster_spike_count[i] = count\n",
    "\n",
    "    firing_rate = cluster_spike_count/(np.max(spike_times)/30000)\n",
    "\n",
    "    df = pd.DataFrame({'cluster_id':clust_ind, 'firing_rate':firing_rate})\n",
    "    \n",
    "    return df"
   ]
  },
  {
   "cell_type": "code",
   "execution_count": 11,
   "metadata": {},
   "outputs": [],
   "source": [
    "# MAIN SCRIPT FOR CALCULATING FIRING RATE\n",
    "\n",
    "# going through all the different recording sessions\n",
    "t_stamp = [\"0900\", \"1000\", \"1100\", \"1200\", \"1300\", \"1400\", \"1500\", \"1600\", \"1700\", \"1800\", \"1900\", \"2000\", \"2100\"]\n",
    "file_dir = \"Z:/Wu_sleep/m2/SD1/\"\n",
    "file_date = \"20240923\"\n",
    "\n",
    "mean_fr_sessions = []\n",
    "\n",
    "for s in range(len(t_stamp)):\n",
    "    file_path = file_date + \"_SD1_test_\" + t_stamp[s] + \"_g0/catgt_\" + file_date + \"_SD1_test_\" + t_stamp[s] + \"_g0/\" + file_date + \"_SD1_test_\" + t_stamp[s] + \"_g0_imec0/imec0_ks25\"\n",
    "    spike_times_file = file_dir + file_path + \"/spike_times.npy\"\n",
    "    spike_clusters_file = file_dir + file_path + \"/spike_clusters.npy\"\n",
    "    cluster_label_file = file_dir + file_path + \"/cluster_group.tsv\"\n",
    "    \n",
    "\n",
    "    fr, t_bins, clust_num, clust_tot = firing_rate_calc(spike_times_file, spike_clusters_file, cluster_label_file, bin_size, \"all\")\n",
    "    fr_smooth = firing_rate_smooth(fr, sigma)\n",
    "\n",
    "    # taking average of binned firing rate for each cluster\n",
    "    fr_smooth_avg = np.average(fr_smooth, axis=1)\n",
    "\n",
    "    # save total cluster fr data in vector for each session\n",
    "    mean_fr_sessions.append(fr_smooth_avg)\n",
    "\n",
    "    # update post-curation metrics file with firing rate for neuron tracking\n",
    "    fr_df = firing_rate_metics(spike_times_file, spike_clusters_file)\n",
    "    fr_df.to_csv(os.path.join(file_dir + file_path, r\"metrics_curated.csv\"))\n",
    "\n",
    "    "
   ]
  },
  {
   "cell_type": "code",
   "execution_count": 18,
   "metadata": {},
   "outputs": [],
   "source": [
    "t_stamp = [\"0900\", \"1000\", \"1100\", \"1200\", \"1300\", \"1400\", \"1500\", \"1600\", \"1700\", \"1800\", \"1900\", \"2000\", \"2100\"]\n",
    "file_dir = \"Z:/Wu_sleep/m1/SD1/\"\n",
    "file_date = \"20240914\"\n",
    "\n",
    "clust_num_all = np.zeros(13)\n",
    "clust_tot_all = np.zeros(13)\n",
    "for s in range(len(t_stamp)):\n",
    "    file_path = file_date + \"_SD1_test_\" + t_stamp[s] + \"_g0/catgt_\" + file_date + \"_SD1_test_\" + t_stamp[s] + \"_g0/\" + file_date + \"_SD1_test_\" + t_stamp[s] + \"_g0_imec0/imec0_ks25\"\n",
    "    spike_times_file = file_dir + file_path + \"/spike_times.npy\"\n",
    "    spike_clusters_file = file_dir + file_path + \"/spike_clusters.npy\"\n",
    "    cluster_label_file = file_dir + file_path + \"/cluster_group.tsv\"\n",
    "    \n",
    "\n",
    "    fr, t_bins, clust_num, clust_tot= firing_rate_calc(spike_times_file, spike_clusters_file, cluster_label_file, bin_size, \"all\")\n",
    "    clust_num_all[s] = clust_num\n",
    "    clust_tot_all[s] = clust_tot\n"
   ]
  },
  {
   "cell_type": "code",
   "execution_count": 3,
   "metadata": {},
   "outputs": [
    {
     "name": "stderr",
     "output_type": "stream",
     "text": [
      "C:\\Users\\alexc\\AppData\\Local\\Temp\\ipykernel_39688\\2501792696.py:7: DeprecationWarning: `np.float` is a deprecated alias for the builtin `float`. To silence this warning, use `float` by itself. Doing this will not modify any behavior and is safe. If you specifically wanted the numpy scalar type, use `np.float64` here.\n",
      "Deprecated in NumPy 1.20; for more details and guidance: https://numpy.org/devdocs/release/1.20.0-notes.html#deprecations\n",
      "  clust_test = (spike_times[spike_clusters == 127]/30000).astype(np.float)\n"
     ]
    }
   ],
   "source": [
    "spike_times = np.load(r\"Z:\\Wu_sleep\\m1\\SD1\\20240914_SD1_test_0900_g0\\catgt_20240914_SD1_test_0900_g0\\20240914_SD1_test_0900_g0_imec0\\imec0_ks25\\spike_times.npy\")\n",
    "spike_clusters =np.load(r\"Z:\\Wu_sleep\\m1\\SD1\\20240914_SD1_test_0900_g0\\catgt_20240914_SD1_test_0900_g0\\20240914_SD1_test_0900_g0_imec0\\imec0_ks25\\spike_clusters.npy\")\n",
    "cluster_label = r\"Z:\\Wu_sleep\\m1\\SD1\\20240914_SD1_test_0900_g0\\catgt_20240914_SD1_test_0900_g0\\20240914_SD1_test_0900_g0_imec0\\imec0_ks25\\cluster_group.tsv\"\n",
    "\n",
    "clust_ind = np.unique(spike_clusters)\n",
    "\n",
    "clust_test = (spike_times[spike_clusters == 127]/30000).astype(np.float)\n",
    "#clust_test.astype(np.float)\n"
   ]
  },
  {
   "cell_type": "code",
   "execution_count": 4,
   "metadata": {},
   "outputs": [],
   "source": [
    "bursts, q, a = bd.find_bursts(clust_test)"
   ]
  },
  {
   "cell_type": "code",
   "execution_count": 6,
   "metadata": {},
   "outputs": [
    {
     "data": {
      "text/html": [
       "<div>\n",
       "<style scoped>\n",
       "    .dataframe tbody tr th:only-of-type {\n",
       "        vertical-align: middle;\n",
       "    }\n",
       "\n",
       "    .dataframe tbody tr th {\n",
       "        vertical-align: top;\n",
       "    }\n",
       "\n",
       "    .dataframe thead th {\n",
       "        text-align: right;\n",
       "    }\n",
       "</style>\n",
       "<table border=\"1\" class=\"dataframe\">\n",
       "  <thead>\n",
       "    <tr style=\"text-align: right;\">\n",
       "      <th></th>\n",
       "      <th>level</th>\n",
       "      <th>start</th>\n",
       "      <th>end</th>\n",
       "    </tr>\n",
       "  </thead>\n",
       "  <tbody>\n",
       "    <tr>\n",
       "      <th>0</th>\n",
       "      <td>1</td>\n",
       "      <td>60.674567</td>\n",
       "      <td>61.288200</td>\n",
       "    </tr>\n",
       "    <tr>\n",
       "      <th>1</th>\n",
       "      <td>1</td>\n",
       "      <td>86.766367</td>\n",
       "      <td>89.722867</td>\n",
       "    </tr>\n",
       "    <tr>\n",
       "      <th>2</th>\n",
       "      <td>1</td>\n",
       "      <td>94.793567</td>\n",
       "      <td>95.709567</td>\n",
       "    </tr>\n",
       "    <tr>\n",
       "      <th>3</th>\n",
       "      <td>1</td>\n",
       "      <td>100.878867</td>\n",
       "      <td>101.812900</td>\n",
       "    </tr>\n",
       "    <tr>\n",
       "      <th>4</th>\n",
       "      <td>1</td>\n",
       "      <td>181.918233</td>\n",
       "      <td>181.960767</td>\n",
       "    </tr>\n",
       "    <tr>\n",
       "      <th>5</th>\n",
       "      <td>2</td>\n",
       "      <td>181.918233</td>\n",
       "      <td>181.960767</td>\n",
       "    </tr>\n",
       "    <tr>\n",
       "      <th>6</th>\n",
       "      <td>3</td>\n",
       "      <td>181.918233</td>\n",
       "      <td>181.960767</td>\n",
       "    </tr>\n",
       "    <tr>\n",
       "      <th>7</th>\n",
       "      <td>1</td>\n",
       "      <td>194.632567</td>\n",
       "      <td>257.020133</td>\n",
       "    </tr>\n",
       "    <tr>\n",
       "      <th>8</th>\n",
       "      <td>1</td>\n",
       "      <td>280.314467</td>\n",
       "      <td>281.333867</td>\n",
       "    </tr>\n",
       "    <tr>\n",
       "      <th>9</th>\n",
       "      <td>1</td>\n",
       "      <td>332.777467</td>\n",
       "      <td>354.141967</td>\n",
       "    </tr>\n",
       "    <tr>\n",
       "      <th>10</th>\n",
       "      <td>1</td>\n",
       "      <td>415.553600</td>\n",
       "      <td>416.620367</td>\n",
       "    </tr>\n",
       "    <tr>\n",
       "      <th>11</th>\n",
       "      <td>1</td>\n",
       "      <td>421.693400</td>\n",
       "      <td>422.462067</td>\n",
       "    </tr>\n",
       "    <tr>\n",
       "      <th>12</th>\n",
       "      <td>1</td>\n",
       "      <td>454.469167</td>\n",
       "      <td>491.224600</td>\n",
       "    </tr>\n",
       "    <tr>\n",
       "      <th>13</th>\n",
       "      <td>1</td>\n",
       "      <td>521.358567</td>\n",
       "      <td>522.155100</td>\n",
       "    </tr>\n",
       "    <tr>\n",
       "      <th>14</th>\n",
       "      <td>1</td>\n",
       "      <td>566.997500</td>\n",
       "      <td>567.885033</td>\n",
       "    </tr>\n",
       "    <tr>\n",
       "      <th>15</th>\n",
       "      <td>1</td>\n",
       "      <td>572.289700</td>\n",
       "      <td>573.374033</td>\n",
       "    </tr>\n",
       "    <tr>\n",
       "      <th>16</th>\n",
       "      <td>1</td>\n",
       "      <td>581.947533</td>\n",
       "      <td>587.166833</td>\n",
       "    </tr>\n",
       "    <tr>\n",
       "      <th>17</th>\n",
       "      <td>1</td>\n",
       "      <td>604.025300</td>\n",
       "      <td>605.138733</td>\n",
       "    </tr>\n",
       "  </tbody>\n",
       "</table>\n",
       "</div>"
      ],
      "text/plain": [
       "    level       start         end\n",
       "0       1   60.674567   61.288200\n",
       "1       1   86.766367   89.722867\n",
       "2       1   94.793567   95.709567\n",
       "3       1  100.878867  101.812900\n",
       "4       1  181.918233  181.960767\n",
       "5       2  181.918233  181.960767\n",
       "6       3  181.918233  181.960767\n",
       "7       1  194.632567  257.020133\n",
       "8       1  280.314467  281.333867\n",
       "9       1  332.777467  354.141967\n",
       "10      1  415.553600  416.620367\n",
       "11      1  421.693400  422.462067\n",
       "12      1  454.469167  491.224600\n",
       "13      1  521.358567  522.155100\n",
       "14      1  566.997500  567.885033\n",
       "15      1  572.289700  573.374033\n",
       "16      1  581.947533  587.166833\n",
       "17      1  604.025300  605.138733"
      ]
     },
     "execution_count": 6,
     "metadata": {},
     "output_type": "execute_result"
    }
   ],
   "source": [
    "bursts"
   ]
  },
  {
   "cell_type": "code",
   "execution_count": 6,
   "metadata": {},
   "outputs": [
    {
     "data": {
      "text/plain": [
       "array([1, 0, 0, 0, 0, 0, 0, 0, 0, 1, 1, 0, 0, 0, 0, 0, 0, 0, 0, 1, 1, 1,\n",
       "       1, 1, 1, 0, 0, 1, 1, 0, 1, 1, 0, 0, 0, 0, 0, 0, 0, 0, 0, 0, 0, 0,\n",
       "       0, 0, 0, 0, 0, 0, 0, 0, 0, 0, 3, 3, 0, 0, 0, 0, 0, 1, 1, 0, 0, 0,\n",
       "       0, 0, 1, 0, 0, 0, 0, 0, 0, 0, 0, 0, 1, 0, 0, 0, 1, 0, 0, 0, 0, 0,\n",
       "       0, 1, 1, 0, 0, 0, 0, 0, 0, 0, 0, 0, 0, 0, 0, 0, 0, 0, 0, 0, 0, 1,\n",
       "       1, 1, 0, 0, 0, 0, 0, 0, 0, 0, 0, 1, 0, 0, 0, 0, 0, 0, 0, 0, 0, 0,\n",
       "       0, 0, 0, 0, 0, 0, 0, 1, 1, 0, 0, 1, 1, 0, 0, 0, 0, 0, 1, 1, 1, 0,\n",
       "       0, 0, 0, 0, 0, 0, 1, 0, 0, 0, 0, 0, 0, 0, 1, 0, 0, 0, 0, 0, 0, 0,\n",
       "       0, 1, 1, 0, 0, 0, 0, 0, 0, 0, 0, 1, 1, 0, 0, 1, 1, 0, 0, 1, 1, 1,\n",
       "       1, 1, 1, 1, 1, 1, 1, 0, 0, 0, 0, 1, 1, 1, 0, 0, 0])"
      ]
     },
     "execution_count": 6,
     "metadata": {},
     "output_type": "execute_result"
    }
   ],
   "source": [
    "q"
   ]
  },
  {
   "cell_type": "code",
   "execution_count": 69,
   "metadata": {},
   "outputs": [
    {
     "data": {
      "image/png": "[encoded data removed]",
      "text/plain": [
       "<Figure size 640x480 with 1 Axes>"
      ]
     },
     "metadata": {},
     "output_type": "display_data"
    }
   ],
   "source": [
    "plt.violinplot(mean_fr_sessions,showmedians=True, showextrema=False)\n",
    "\n",
    "plt.ylim([0,50])\n",
    "plt.title(\"M2 Firing Rate\")\n",
    "plt.xticks(np.arange(13)+1, [\"SD1\", \"SD2\", \"SD3\", \"SD4\", \"SD5\", \"SD6\", \"RE1\", \"RE2\", \"RE3\", \"RE4\", \"RE5\", \"RE6\", \"RE7\"])\n",
    "plt.xlabel(\"Sessions\")\n",
    "plt.ylabel(\"FR (Hz)\")\n",
    "plt.show()"
   ]
  },
  {
   "cell_type": "code",
   "execution_count": 74,
   "metadata": {},
   "outputs": [
    {
     "data": {
      "image/png": "[encoded data removed]",
      "text/plain": [
       "<Figure size 640x480 with 1 Axes>"
      ]
     },
     "metadata": {},
     "output_type": "display_data"
    }
   ],
   "source": [
    "plt.boxplot(mean_fr_sessions, sym=\"\")\n",
    "\n",
    "plt.ylim([0,50])\n",
    "plt.title(\"M1 Firing Rate\")\n",
    "plt.xticks(np.arange(13)+1, [\"SD1\", \"SD2\", \"SD3\", \"SD4\", \"SD5\", \"SD6\", \"RE1\", \"RE2\", \"RE3\", \"RE4\", \"RE5\", \"RE6\", \"RE7\"])\n",
    "plt.xlabel(\"Sessions\")\n",
    "plt.ylabel(\"FR (Hz)\")\n",
    "plt.show()"
   ]
  }
 ],
 "metadata": {
  "kernelspec": {
   "display_name": "burst-detector",
   "language": "python",
   "name": "python3"
  },
  "language_info": {
   "codemirror_mode": {
    "name": "ipython",
    "version": 3
   },
   "file_extension": ".py",
   "mimetype": "text/x-python",
   "name": "python",
   "nbconvert_exporter": "python",
   "pygments_lexer": "ipython3",
   "version": "3.10.4"
  }
 },
 "nbformat": 4,
 "nbformat_minor": 2
}
